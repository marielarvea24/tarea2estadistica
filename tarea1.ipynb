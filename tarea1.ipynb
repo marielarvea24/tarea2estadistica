{
  "nbformat": 4,
  "nbformat_minor": 0,
  "metadata": {
    "colab": {
      "name": "tarea1.ipynb",
      "provenance": [],
      "authorship_tag": "ABX9TyMK6d57DqFeMwmkfEQw7aTM",
      "include_colab_link": true
    },
    "kernelspec": {
      "name": "python3",
      "display_name": "Python 3"
    },
    "language_info": {
      "name": "python"
    }
  },
  "cells": [
    {
      "cell_type": "markdown",
      "metadata": {
        "id": "view-in-github",
        "colab_type": "text"
      },
      "source": [
        "<a href=\"https://colab.research.google.com/github/marielarvea24/tarea2estadistica/blob/main/tarea1.ipynb\" target=\"_parent\"><img src=\"https://colab.research.google.com/assets/colab-badge.svg\" alt=\"Open In Colab\"/></a>"
      ]
    },
    {
      "cell_type": "markdown",
      "source": [
        "TAREA 1 ESTADISTICA APLICADA \n",
        "# MARIEL ARVEA DIAZ 1937863 \n"
      ],
      "metadata": {
        "id": "hgKKO4FYTILG"
      }
    },
    {
      "cell_type": "code",
      "source": [
        "[ ] #respuesta\n",
        "mi_familia = ['Mariel' , 'Alberto','Marinel','Bruno','Denisse']\n",
        "print(mi_familia)"
      ],
      "metadata": {
        "colab": {
          "base_uri": "https://localhost:8080/"
        },
        "id": "6_WbMkLXXua2",
        "outputId": "5a064932-16f3-4229-9399-3fd2a4ad0890"
      },
      "execution_count": null,
      "outputs": [
        {
          "output_type": "stream",
          "name": "stdout",
          "text": [
            "['Mariel', 'Alberto', 'Marinel', 'Bruno', 'Denisse']\n"
          ]
        }
      ]
    },
    {
      "cell_type": "markdown",
      "source": [
        "2.- crea una variable float que se lla,e mi_edad con tu edad \n",
        "Nota: las variables float contienen decimales "
      ],
      "metadata": {
        "id": "14FS17SpZ87U"
      }
    },
    {
      "cell_type": "code",
      "source": [
        "#respuesta\n",
        "mi_edad = float(24)"
      ],
      "metadata": {
        "id": "J70i4_Z2aHfM"
      },
      "execution_count": null,
      "outputs": []
    },
    {
      "cell_type": "markdown",
      "source": [
        "3.- convierte la variable mi_edad a entero _(int) y guardardalo en mi_edad"
      ],
      "metadata": {
        "id": "D-ZWcLr5aRJQ"
      }
    },
    {
      "cell_type": "code",
      "source": [
        " mi_edad=int(mi_edad)"
      ],
      "metadata": {
        "id": "tgOxRd_0acXq"
      },
      "execution_count": null,
      "outputs": []
    },
    {
      "cell_type": "code",
      "source": [
        "#al ejecutar el comando de abajo debe resultarte int\n",
        "type(mi_edad)"
      ],
      "metadata": {
        "colab": {
          "base_uri": "https://localhost:8080/"
        },
        "id": "ujih31wjbUTZ",
        "outputId": "6079ef0c-53da-43f6-b1e9-bb86a00983ca"
      },
      "execution_count": null,
      "outputs": [
        {
          "output_type": "execute_result",
          "data": {
            "text/plain": [
              "int"
            ]
          },
          "metadata": {},
          "execution_count": 19
        }
      ]
    },
    {
      "cell_type": "markdown",
      "source": [
        "4.con e comando len(objeto) muestra cuantos integrantes tiene tu familia"
      ],
      "metadata": {
        "id": "3QNY48TJbz5R"
      }
    },
    {
      "cell_type": "code",
      "source": [
        "len(mi_familia)"
      ],
      "metadata": {
        "colab": {
          "base_uri": "https://localhost:8080/"
        },
        "id": "VoD1Ir68b7VG",
        "outputId": "69d42de1-fb46-44da-f6ce-a0b5039d0e00"
      },
      "execution_count": null,
      "outputs": [
        {
          "output_type": "execute_result",
          "data": {
            "text/plain": [
              "5"
            ]
          },
          "metadata": {},
          "execution_count": 20
        }
      ]
    },
    {
      "cell_type": "markdown",
      "source": [
        "5.utiliza print para que se imprima en pantalla tu edad \n",
        "ejm:yo (el profe) tengo 5 perros de mafotas y voy a imprimirlo en pantalla "
      ],
      "metadata": {
        "id": "Nn0UDaXxcCPG"
      }
    },
    {
      "cell_type": "code",
      "source": [
        "print('yo tengo', mi_edad,'años')"
      ],
      "metadata": {
        "colab": {
          "base_uri": "https://localhost:8080/"
        },
        "id": "_9tbPNk-cN3z",
        "outputId": "2a436e95-2178-4b54-a0e4-8ae431796411"
      },
      "execution_count": null,
      "outputs": [
        {
          "output_type": "stream",
          "name": "stdout",
          "text": [
            "yo tengo 24 años\n"
          ]
        }
      ]
    },
    {
      "cell_type": "code",
      "source": [
        "[ ] ## tu respuesta para mostrar tu edad \n",
        "    ## utiliza la variable mi_edad creada anteriormente"
      ],
      "metadata": {
        "colab": {
          "base_uri": "https://localhost:8080/"
        },
        "id": "O12M5ZNWcnDN",
        "outputId": "ac3c1f12-2e10-4c79-babc-ba1c2cbd39e7"
      },
      "execution_count": null,
      "outputs": [
        {
          "output_type": "execute_result",
          "data": {
            "text/plain": [
              "[]"
            ]
          },
          "metadata": {},
          "execution_count": 22
        }
      ]
    },
    {
      "cell_type": "markdown",
      "source": [
        "6. utiliza print para mostrar cuantos integrantes tiene  tu familia \n",
        "ahora usa print(f'texto{objeto}') . MIRA EL EJMPLO"
      ],
      "metadata": {
        "id": "RZ65WPVKdIzP"
      }
    },
    {
      "cell_type": "code",
      "source": [
        "  print(f'Mi familia tiene  {len(mi_familia)} integrantes de la casa')"
      ],
      "metadata": {
        "colab": {
          "base_uri": "https://localhost:8080/"
        },
        "id": "YK0ru_cgfW9h",
        "outputId": "d0ffecd5-c74c-4c51-a89f-4ef5df0f8231"
      },
      "execution_count": null,
      "outputs": [
        {
          "output_type": "stream",
          "name": "stdout",
          "text": [
            "Mi familia tiene  5 integrantes de la casa\n"
          ]
        }
      ]
    },
    {
      "cell_type": "code",
      "source": [
        "##tu respuesta\n",
        "## utiliza len ()"
      ],
      "metadata": {
        "id": "grGcNA_GgEPt"
      },
      "execution_count": null,
      "outputs": []
    },
    {
      "cell_type": "markdown",
      "source": [
        "7.copleta el siguiente codigo para que si tienes 20 o mas añosde edad se imprima ?tengo mas de 20 años y sino menos de 20 años\n"
      ],
      "metadata": {
        "id": "Ylq_HfpZgOmz"
      }
    }
  ]
}